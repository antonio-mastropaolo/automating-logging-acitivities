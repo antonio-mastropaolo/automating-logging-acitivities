{
  "cells": [
    {
      "cell_type": "code",
      "execution_count": null,
      "metadata": {
        "id": "Hs0QOp8f_UJo"
      },
      "outputs": [],
      "source": [
        "import os\n",
        "print(\"Setting up GCS access...\")\n",
        "from google.colab import auth\n",
        "os.environ['USE_AUTH_EPHEM'] = '0'\n",
        "auth.authenticate_user()"
      ]
    },
    {
      "cell_type": "markdown",
      "metadata": {
        "id": "c1E14d3plvEy"
      },
      "source": [
        "# Set Up"
      ]
    },
    {
      "cell_type": "code",
      "execution_count": 2,
      "metadata": {
        "id": "k1UIzXXg1Ocj"
      },
      "outputs": [],
      "source": [
        "from IPython.display import clear_output \n",
        "!pip install gcsfs\n",
        "!pip install t5==0.9.2\n",
        "!pip install -q tensorflow-text==2.8.0rc0\n",
        "clear_output()"
      ]
    },
    {
      "cell_type": "code",
      "execution_count": null,
      "metadata": {
        "id": "k66BV9ONlkic"
      },
      "outputs": [],
      "source": [
        "print(\"Installing dependencies...\")\n",
        "\n",
        "import functools\n",
        "import os\n",
        "import gin\n",
        "from contextlib import contextmanager\n",
        "import warnings\n",
        "warnings.filterwarnings(\"ignore\", category=DeprecationWarning)\n",
        "\n",
        "import tensorflow.compat.v1 as tf\n",
        "import tensorflow_datasets as tfds\n",
        "import logging as py_logging\n",
        "tf.app.flags.DEFINE_string ('f', '', '')\n",
        "\n",
        "import t5"
      ]
    },
    {
      "cell_type": "code",
      "execution_count": null,
      "metadata": {
        "id": "2h1MRzBLtex2"
      },
      "outputs": [],
      "source": [
        "# Set credentials for GCS reading/writing from Colab and TPU.\n",
        "import tensorflow_gcs_config\n",
        "\n",
        "TPU_TOPOLOGY = \"2x2\"\n",
        "try:\n",
        "  tpu = tf.distribute.cluster_resolver.TPUClusterResolver()  # TPU detection\n",
        "  TPU_ADDRESS = tpu.get_master()\n",
        "  print('Running on TPU:', TPU_ADDRESS)\n",
        "except ValueError:\n",
        "  raise BaseException(\n",
        "    'ERROR: Not connected to a TPU runtime; please see the previous cell in this notebook for instructions!')\n",
        "tf.config.experimental_connect_to_host(TPU_ADDRESS)\n",
        "tensorflow_gcs_config.configure_gcs_from_colab_auth()\n",
        "\n",
        "tf.disable_v2_behavior()\n",
        "\n",
        "#LOGGING\n",
        "tf.get_logger().propagate = False\n",
        "py_logging.root.setLevel('INFO')\n",
        "\n",
        "@contextmanager\n",
        "def tf_verbosity_level(level):\n",
        "  og_level = tf.logging.get_verbosity()\n",
        "  tf.logging.set_verbosity(level)\n",
        "  yield\n",
        "  tf.logging.set_verbosity(og_level)"
      ]
    },
    {
      "cell_type": "markdown",
      "metadata": {
        "id": "ivJO3i9rbr4a"
      },
      "source": [
        "# Variables"
      ]
    },
    {
      "cell_type": "code",
      "execution_count": null,
      "metadata": {
        "id": "Y1pS3VGLbwWQ"
      },
      "outputs": [],
      "source": [
        "task = \"masking\" #@param ['masking']\n",
        "scheduler = \"noam\" #@param ['noam']\n",
        "VOCAB_PREFIX = 'tokenizer' #@param {type: \"string\"}\n",
        "TOKENIZER_DIR = f\"gs://lance2/tokenizer/\"\n",
        "path_pretraining_task1 = f\"gs://lance2/pretraining/{task}/pretraining.tsv\"\n",
        "# Storage paths \n",
        "PRETRAIN_MODEL_DIR = f\"gs://lance2/pretrained-model/{task}\"\n",
        "\n"
      ]
    },
    {
      "cell_type": "markdown",
      "metadata": {
        "id": "53egC7agoZ9n"
      },
      "source": [
        "# Vocab"
      ]
    },
    {
      "cell_type": "code",
      "execution_count": null,
      "metadata": {
        "id": "WyI3CXuOpbX2"
      },
      "outputs": [],
      "source": [
        "from t5.data import postprocessors as t5_postprocessors\n",
        "from t5.seqio import Feature,SentencePieceVocabulary\n",
        "\n",
        "\n",
        "vocab_model_path = os.path.join(TOKENIZER_DIR, f'{VOCAB_PREFIX}.model')\n",
        "vocab_path = os.path.join(TOKENIZER_DIR, f'{VOCAB_PREFIX}.vocab')\n",
        "\n",
        "\n",
        "TaskRegistry = t5.data.TaskRegistry\n",
        "TfdsTask = t5.data.TfdsTask\n",
        "\n",
        "num_special_mask_tokens = 100 #@param {type: \"integer\"}\n",
        "\n",
        "def get_default_vocabulary():\n",
        "  return SentencePieceVocabulary(vocab_model_path, num_special_mask_tokens)\n",
        "\n",
        "DEFAULT_OUTPUT_FEATURES = {\n",
        "    \"inputs\": Feature(\n",
        "        vocabulary=get_default_vocabulary(), add_eos=True, required=False),\n",
        "\n",
        "    \"targets\": Feature(\n",
        "        vocabulary=get_default_vocabulary(), add_eos=True)\n",
        "}"
      ]
    },
    {
      "cell_type": "code",
      "execution_count": null,
      "metadata": {
        "id": "glLJUm1dxIiH"
      },
      "outputs": [],
      "source": [
        "#Skip this cell for running the pre-training on the second task only\n",
        "nq_tsv_path = {\n",
        "    \"train\":      path_pretraining_task1,\n",
        "}\n",
        "\n",
        "num_nq_examples_task1 = dict(train=12671475)\n",
        "\n",
        "def load_dataset(split, shuffle_files=True):\n",
        "  # We only have one file for each split.\n",
        "  del shuffle_files\n",
        "\n",
        "  # Load lines from the text file as examples.\n",
        "\n",
        "  ds = tf.data.TextLineDataset(nq_tsv_path[split])\n",
        "  ds = ds.map(\n",
        "      functools.partial(tf.io.decode_csv, record_defaults=[\"string\",\"string\"],\n",
        "                        field_delim=\"\\t\", use_quote_delim=False),\n",
        "      num_parallel_calls=tf.data.experimental.AUTOTUNE)\n",
        "  \n",
        "  ds = ds.map(lambda *ex: dict(zip([\"input\", \"output\"], ex)))\n",
        "  return ds"
      ]
    },
    {
      "cell_type": "markdown",
      "metadata": {
        "id": "cW3ofkihckPl"
      },
      "source": [
        "## Examples"
      ]
    },
    {
      "cell_type": "code",
      "execution_count": null,
      "metadata": {
        "id": "9I59E58_cmEI"
      },
      "outputs": [],
      "source": [
        "print(\"A few raw train examples...\")\n",
        "for ex in tfds.as_numpy(load_dataset(\"train\").take(5)):\n",
        "  print(ex)"
      ]
    },
    {
      "cell_type": "markdown",
      "metadata": {
        "id": "t43IonWQ5OHi"
      },
      "source": [
        "# Dataset Preprocessing"
      ]
    },
    {
      "cell_type": "code",
      "execution_count": null,
      "metadata": {
        "id": "RENUHKu75KXw"
      },
      "outputs": [],
      "source": [
        "def preprocessing(ds):\n",
        "\n",
        "  def to_inputs_and_targets(ex):\n",
        "        inputs = tf.strings.join(['MASKING: ' + ex['input']], separator=' ')\n",
        "        class_label = tf.strings.join([ex['output']], separator=' ')\n",
        "        return {'inputs': inputs, 'targets': class_label }\n",
        "    \n",
        "  return ds.map(to_inputs_and_targets, num_parallel_calls=tf.data.experimental.AUTOTUNE)"
      ]
    },
    {
      "cell_type": "markdown",
      "metadata": {
        "id": "09QxYschc-vt"
      },
      "source": [
        "## Examples"
      ]
    },
    {
      "cell_type": "code",
      "execution_count": null,
      "metadata": {
        "id": "ku3C3gKC5IEx"
      },
      "outputs": [],
      "source": [
        "print(\"A few preprocessed train examples...\")\n",
        "sample = tfds.as_numpy(preprocessing(load_dataset(\"train\").take(5)))\n",
        "for ex in sample:\n",
        "  print(ex)"
      ]
    },
    {
      "cell_type": "markdown",
      "metadata": {
        "id": "rij6ym_m5eJj"
      },
      "source": [
        "# Set up task"
      ]
    },
    {
      "cell_type": "code",
      "execution_count": null,
      "metadata": {
        "id": "mqCowItk5gsm"
      },
      "outputs": [],
      "source": [
        "# Modify task registry     \n",
        "t5.data.TaskRegistry.remove('masking')\n",
        "t5.data.TaskRegistry.add(\n",
        "    \"masking\",\n",
        "    dataset_fn=load_dataset,\n",
        "    splits=[\"train\"],\n",
        "    text_preprocessor=preprocessing,\n",
        "    output_features = DEFAULT_OUTPUT_FEATURES,\n",
        "    num_input_examples=num_nq_examples_task1\n",
        ")"
      ]
    },
    {
      "cell_type": "markdown",
      "metadata": {
        "id": "XHDGb3gFsoS6"
      },
      "source": [
        "## Mixture"
      ]
    },
    {
      "cell_type": "code",
      "execution_count": null,
      "metadata": {
        "id": "oDEHaEz9uP5z"
      },
      "outputs": [],
      "source": [
        "def _rate_num_input_examples(task):\n",
        "  if \"train\" in task.splits:\n",
        "    return float(task.num_input_examples(\"train\"))\n",
        "  elif \"validation\" in task.splits:\n",
        "    return float(task.num_input_examples(\"validation\"))\n",
        "  else:\n",
        "    raise ValueError(\"Task %s does not have a train or validation split.\" % (task.name))\n",
        "\n",
        "\n",
        "t5.data.MixtureRegistry.remove(\"pretraining\")\n",
        "t5.data.MixtureRegistry.add(\n",
        "    \"pretraining\",\n",
        "    [\"masking\"],\n",
        "    default_rate=_rate_num_input_examples\n",
        ")"
      ]
    },
    {
      "cell_type": "markdown",
      "metadata": {
        "id": "h7C49Pd4u0DC"
      },
      "source": [
        "## Model"
      ]
    },
    {
      "cell_type": "code",
      "execution_count": null,
      "metadata": {
        "id": "_3Qx699vN302"
      },
      "outputs": [],
      "source": [
        "from mesh_tensorflow.transformer.learning_rate_schedules import learning_rate_schedule_noam\n",
        "from t5 import models\n",
        "\n",
        "# Model properties\n",
        "MODEL_SIZE = \"small\" \n",
        "model_parallelism, train_batch_size, keep_checkpoint_max = {\n",
        "    \"small\": (1, 128, 16), #change batch 128\n",
        "    \"base\": (2, 16, 8),\n",
        "    \"large\": (8, 64, 4),\n",
        "    \"3B\": (8, 16, 1),\n",
        "    \"11B\": (8, 16, 1)}[MODEL_SIZE]\n",
        "\n",
        "tf.io.gfile.makedirs(PRETRAIN_MODEL_DIR)\n",
        "\n",
        "# Mesh Tensorflow Transformer\n",
        "model = models.mtf_model.MtfModel(\n",
        "    model_dir=PRETRAIN_MODEL_DIR,\n",
        "    tpu=TPU_ADDRESS,\n",
        "    tpu_topology=TPU_TOPOLOGY,\n",
        "    model_parallelism=model_parallelism,\n",
        "    batch_size=train_batch_size,\n",
        "    learning_rate_schedule = learning_rate_schedule_noam,\n",
        "    sequence_length={\"inputs\": 512, \"targets\": 512},\n",
        "    save_checkpoints_steps=10000,\n",
        "    keep_checkpoint_max=keep_checkpoint_max,\n",
        "    iterations_per_loop=100,\n",
        ")"
      ]
    },
    {
      "cell_type": "markdown",
      "metadata": {
        "id": "ETwijMTDvpZL"
      },
      "source": [
        "# Set up learning Scheduler"
      ]
    },
    {
      "cell_type": "code",
      "execution_count": null,
      "metadata": {
        "id": "Eq7RegMMvuk5"
      },
      "outputs": [],
      "source": [
        "remote_gin_path = f\"gs://lance2/learning_rate_scheduler/{scheduler}/operative_config.gin\"\n",
        "local_gin_path = \"/content/operative_config.gin\"\n",
        "!gsutil -m cp $remote_gin_path $local_gin_path"
      ]
    },
    {
      "cell_type": "code",
      "execution_count": null,
      "metadata": {
        "id": "GmAo9yirFx1V"
      },
      "outputs": [],
      "source": [
        "with gin.unlock_config():\n",
        "    gin.parse_config_file(local_gin_path)"
      ]
    },
    {
      "cell_type": "markdown",
      "metadata": {
        "id": "ekEBp20TvU91"
      },
      "source": [
        "# Pre-train model"
      ]
    },
    {
      "cell_type": "code",
      "execution_count": null,
      "metadata": {
        "colab": {
          "background_save": true
        },
        "id": "6oHp5ScE7nf2"
      },
      "outputs": [],
      "source": [
        "TRAIN_STEPS = 500000 #@param {type: \"integer\"}\n",
        "model.train(\"pretraining\", TRAIN_STEPS) #pretraining = mixture name \n"
      ]
    }
  ],
  "metadata": {
    "accelerator": "TPU",
    "colab": {
      "collapsed_sections": [],
      "machine_shape": "hm",
      "name": "Pre_training.ipynb",
      "provenance": []
    },
    "kernelspec": {
      "display_name": "Python 3",
      "language": "python",
      "name": "python3"
    },
    "language_info": {
      "codemirror_mode": {
        "name": "ipython",
        "version": 3
      },
      "file_extension": ".py",
      "mimetype": "text/x-python",
      "name": "python",
      "nbconvert_exporter": "python",
      "pygments_lexer": "ipython3",
      "version": "3.7.6"
    }
  },
  "nbformat": 4,
  "nbformat_minor": 0
}